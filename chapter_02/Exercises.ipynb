{
 "cells": [
  {
   "cell_type": "markdown",
   "metadata": {},
   "source": [
    "# 2.4 Exercises"
   ]
  },
  {
   "cell_type": "markdown",
   "metadata": {},
   "source": [
    "---\n",
    "\n",
    "## 1"
   ]
  },
  {
   "cell_type": "markdown",
   "metadata": {},
   "source": [
    "a ) BETTER: A flexible method will work because the large sample size allows it to fit many observations\n",
    "\n",
    "b ) WORSE: A inflexible method will work the best since there are not enough observations to fully define the variation and prevent overfitting\n",
    "\n",
    "c ) BETTER: A flexible method will work best due to the nature of the response variable (more degrees of freedom)\n",
    "\n",
    "d ) WORSE: The variance will cause a flexible method to chase the error, so a inflexible method will work best."
   ]
  },
  {
   "cell_type": "markdown",
   "metadata": {},
   "source": [
    "---\n",
    "\n",
    "\n",
    "## 2"
   ]
  },
  {
   "cell_type": "markdown",
   "metadata": {},
   "source": [
    "a ) Regression (Salary), Inference (Find Factors)  \n",
    "    n = 500 firms   \n",
    "    p = 3, profit, # employees, industry  \n",
    "\n",
    "b ) Classification (Success/Failure), Prediction (New product)  \n",
    "    n = 20 similar products   \n",
    "    p = 13, success, price, marketing budget, competition price, 10 other  \n",
    "    \n",
    "c ) Regression (% Change), Prediction  \n",
    "    n = 52 weeks in 2012    \n",
    "    p = 4, delta% dollar, delta% USmarket, delta% UKmarket, delta% DEmarket  \n"
   ]
  },
  {
   "cell_type": "markdown",
   "metadata": {},
   "source": [
    "---\n",
    "\n",
    "## 3\n",
    "\n",
    "a )   \n",
    "![figure 3a](https://raw.githubusercontent.com/tylerc-atx/statlearning/master/chapter_02/3_a_fig.jpg)\n",
    "\n",
    "b )   \n",
    "**Irreducible Error:** The irreducible error is inherent in the variation of the data and cannot be reduced further. It is some constant value of error on the y-axis.  \n",
    "\n",
    "**Bias Squared:** Bias squared is the error between the model function and the true underlying function. It is reduced monotonically as the estimated function fits the data more closely to the true function.  \n",
    "\n",
    "**Variance:** Variance is the variation in the training data that is not part of the underlying function. Variation constantly increases monotonically as flexiblity increases since the model will 'chase' the data more closely. Too much variation results in an overfit model.\n",
    "\n",
    "**Training Error:** Training error reduces monotonically as flexibilty increases due to decreasing bias. However, overfitting the model will cause the model to 'chase' the variance in training data and overfit it; reducing the training error below the irreducible error.\n",
    "\n",
    "**Test Error:** Test error initially decreases as bias falls when the model is fit. As the model is overfit, the variation increases will cause the test error to increase."
   ]
  },
  {
   "cell_type": "markdown",
   "metadata": {},
   "source": [
    "---\n",
    "\n",
    "## 4\n",
    "\n",
    "a )  \n",
    "\n",
    "**Brand of Beer Purchased**  \n",
    "Response Variable: Type of Beer  \n",
    "Predictors: Region, local income-level, type of store, brands carried  \n",
    "Prediction  \n",
    "\n",
    "**What majors do students from our HS study? What predictors influence their choice of major?**  \n",
    "Response Variable: College Major  \n",
    "Predictors: GPA, club membership, athletic activities, gender  \n",
    "Inference  \n",
    "\n",
    "**What dish will sell most at the new restaurant?**  \n",
    "Response Variable: Dish  \n",
    "Predictors: Location, demographics, dishes offered  \n",
    "Prediction  \n",
    "\n",
    "b )\n",
    "\n",
    "**What influences sales of our laptop product line?**  \n",
    "Response Variable: Number of sales  \n",
    "Predictors: Consumer segment, time of year, marketing budget  \n",
    "Inference\n",
    "\n",
    "**What MPG will the new car design get?**  \n",
    "Response Variable: MPG  \n",
    "Predictors: Cylinders, weight, 2x2 vs 4x4  \n",
    "Prediction  \n",
    "\n",
    "**GPA of student based on hobbies**  \n",
    "Response Variable: GPA  \n",
    "Predictors: hobbie types  \n",
    "Prediction  \n",
    "\n",
    "c ) \n",
    "\n",
    "**Market segments for a company's customers**  \n",
    "**Social media influencer's follower types**  \n",
    "**Characteristics of various web traffic types in our datacenter**  "
   ]
  },
  {
   "cell_type": "markdown",
   "metadata": {},
   "source": [
    "---\n",
    "\n",
    "## 5\n",
    "\n",
    "A very flexible approach will fit the training data more closely, particularly for non-linear relationships where a linear approach would not eliminate as much bias. However, a very flexible approach can introduce variation if it is overfit, and requires more data to train.    \n",
    "\n",
    "A more flexible approach is typically better for prediction purposes.\n",
    "\n",
    "A less flexible approach is preferred for drawing inference about the relationship between the predictors and response. (higher interpretability)"
   ]
  },
  {
   "cell_type": "markdown",
   "metadata": {},
   "source": [
    "---\n",
    "\n",
    "## 6\n",
    "\n",
    "A parametric approach creates a model that has parameters assigned to each predictor. A nonparametric approach is typically more flexible and will not assume a functional form to data.\n",
    "\n",
    "A parametric approach has the advantage of being more interpretable. However, it cannot fit data that has alot of variation and degrees of freedom.  A parametric approach also requires less observations to fit."
   ]
  },
  {
   "cell_type": "markdown",
   "metadata": {},
   "source": [
    "---\n",
    "\n",
    "## 7\n",
    "\n",
    "|Obs|$X_1$|$X_2$|$X_3$|Y|\n",
    "|---|---|---|---|---|\n",
    "|1|0|3|0|Red|\n",
    "|2|2|0|0|Red|\n",
    "|3|0|1|3|Red|\n",
    "|4|0|1|2|Green|\n",
    "|5|-1|0|1|Green|\n",
    "|6|1|1|1|Red|\n",
    "\n",
    "\n",
    "a )  \n",
    "\n",
    "|Obs|Distance|\n",
    "|---|---|\n",
    "|1|3|\n",
    "|2|2|\n",
    "|3|3.2|\n",
    "|4|2.2|\n",
    "|5|1.4|\n",
    "|6|1.7|\n",
    "\n",
    "b )  \n",
    "\n",
    "Green is the K = 1 closest to (0, 0, 0)  \n",
    "\n",
    "c )  \n",
    "\n",
    "Red. 2/3 of the K = 3 closest neighbors are red for (0, 0, 0)\n",
    "\n",
    "d )   \n",
    "\n",
    "If the decision boundary is nonlinear, then a smaller K would be preferable. A smaller K will chase the data more closely and define the non-linear relationship. Smaller K is typically more flexible and has lower bias. Smaller K prediction use less points to make a decision than large ones.\n"
   ]
  }
 ],
 "metadata": {
  "kernelspec": {
   "display_name": "Python [conda root]",
   "language": "python",
   "name": "conda-root-py"
  },
  "language_info": {
   "codemirror_mode": {
    "name": "ipython",
    "version": 2
   },
   "file_extension": ".py",
   "mimetype": "text/x-python",
   "name": "python",
   "nbconvert_exporter": "python",
   "pygments_lexer": "ipython2",
   "version": "2.7.13"
  }
 },
 "nbformat": 4,
 "nbformat_minor": 2
}
