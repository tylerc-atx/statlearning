{
 "cells": [
  {
   "cell_type": "markdown",
   "metadata": {},
   "source": [
    "# 2.4 Exercises"
   ]
  },
  {
   "cell_type": "markdown",
   "metadata": {},
   "source": [
    "#### 1"
   ]
  },
  {
   "cell_type": "markdown",
   "metadata": {},
   "source": [
    "a ) BETTER: A flexible method will work because the large sample size allows it to fit many observations\n",
    "\n",
    "b ) WORSE: A inflexible method will work the best since there are not enough observations to fully define the variation and prevent overfitting\n",
    "\n",
    "c ) BETTER: A flexible method will work best due to the nature of the response variable (more degrees of freedom)\n",
    "\n",
    "d ) WORSE: The variance will cause a flexible method to chase the error, so a inflexible method will work best."
   ]
  },
  {
   "cell_type": "markdown",
   "metadata": {},
   "source": [
    "#### 2"
   ]
  },
  {
   "cell_type": "markdown",
   "metadata": {},
   "source": [
    "a ) Regression (Salary), Inference (Find Factors)  \n",
    "    n = 500 firms   \n",
    "    p = 3, profit, # employees, industry  \n",
    "\n",
    "b ) Classification (Success/Failure), Prediction (New product)  \n",
    "    n = 20 similar products   \n",
    "    p = 13, success, price, marketing budget, competition price, 10 other  \n",
    "    \n",
    "c ) Regression (% Change), Prediction  \n",
    "    n = 52 weeks in 2012    \n",
    "    p = 4, delta% dollar, delta% USmarket, delta% UKmarket, delta% DEmarket  \n"
   ]
  },
  {
   "cell_type": "code",
   "execution_count": null,
   "metadata": {
    "collapsed": true
   },
   "outputs": [],
   "source": []
  }
 ],
 "metadata": {
  "kernelspec": {
   "display_name": "Python [conda root]",
   "language": "python",
   "name": "conda-root-py"
  },
  "language_info": {
   "codemirror_mode": {
    "name": "ipython",
    "version": 2
   },
   "file_extension": ".py",
   "mimetype": "text/x-python",
   "name": "python",
   "nbconvert_exporter": "python",
   "pygments_lexer": "ipython2",
   "version": "2.7.13"
  }
 },
 "nbformat": 4,
 "nbformat_minor": 2
}
